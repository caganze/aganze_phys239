{
 "cells": [
  {
   "cell_type": "code",
   "execution_count": 1,
   "metadata": {},
   "outputs": [
    {
     "data": {
      "application/javascript": [
       "IPython.notebook.set_autosave_interval(120000)"
      ]
     },
     "metadata": {},
     "output_type": "display_data"
    },
    {
     "name": "stdout",
     "output_type": "stream",
     "text": [
      "Autosaving every 120 seconds\n"
     ]
    }
   ],
   "source": [
    "import numpy as np\n",
    "import matplotlib.pyplot as plt\n",
    "import astropy.units as u\n",
    "%matplotlib inline\n",
    "%autosave 120"
   ]
  },
  {
   "cell_type": "code",
   "execution_count": 2,
   "metadata": {},
   "outputs": [],
   "source": [
    "#define constants \n",
    "D=100*u.pc.to(u.cm)*u.cm\n",
    "N=1*u.cm**-3\n",
    "INT_UNIT=u.erg/(u.s*(u.cm**2)*u.steradian) #unit for the intensity"
   ]
  },
  {
   "cell_type": "markdown",
   "metadata": {},
   "source": [
    "The specific intensity for a a constant source function is given by \n",
    "$$\n",
    "I= I_0 e^{-\\tau}+ \\int _{\n",
    "    0} ^{\\tau} e^{-(\\tau - \\tau')} S d\\tau'\n",
    "$$\n",
    "$$\n",
    "I= e^{-\\tau}(I_0-S)+S\n",
    "$$ and $\\tau = n \\sigma _\\nu D$"
   ]
  },
  {
   "cell_type": "code",
   "execution_count": 13,
   "metadata": {},
   "outputs": [],
   "source": [
    "def cross_section(t):\n",
    "    return t/(N*D)"
   ]
  },
  {
   "cell_type": "code",
   "execution_count": 187,
   "metadata": {},
   "outputs": [],
   "source": [
    "def gaussian(nu):\n",
    "    \"\"\"\n",
    "    a gaussian \n",
    "    \"\"\"\n",
    "    center=10 #center this in the terahertz region\n",
    "    var=.5\n",
    "    #norm=1/(np.sqrt(2*np.pi*var))\n",
    "    #print (norm)\n",
    "    gauss=np.exp(-(nu-center)**2/(2*var))\n",
    "    return gauss"
   ]
  },
  {
   "cell_type": "code",
   "execution_count": 90,
   "metadata": {},
   "outputs": [],
   "source": [
    "#define functions used in here\n",
    "def tau(nu, sigma0):\n",
    "    \"\"\"\n",
    "    frequency dependent optical length assuming a gaussian cross-section\n",
    "    \"\"\"\n",
    "    return N*D*gaussian(nu)*sigma0"
   ]
  },
  {
   "cell_type": "code",
   "execution_count": 7,
   "metadata": {},
   "outputs": [],
   "source": [
    "def specific_intensity(i_0, t, s):\n",
    "    \"\"\"\n",
    "    spefic intensity\n",
    "    \"\"\"\n",
    "    return s+np.exp(-t)*(i_0-s)"
   ]
  },
  {
   "cell_type": "markdown",
   "metadata": {},
   "source": [
    "#### (1). Column Density of the cloud "
   ]
  },
  {
   "cell_type": "code",
   "execution_count": 21,
   "metadata": {},
   "outputs": [
    {
     "name": "stdout",
     "output_type": "stream",
     "text": [
      "3.085677581467191e+20 1 / cm2\n"
     ]
    }
   ],
   "source": [
    "print (N*D)"
   ]
  },
  {
   "cell_type": "markdown",
   "metadata": {},
   "source": [
    "Cross-sections for $\\tau=10^{-3}$, $\\tau=1$, $\\tau=10^3$"
   ]
  },
  {
   "cell_type": "code",
   "execution_count": 14,
   "metadata": {},
   "outputs": [
    {
     "name": "stdout",
     "output_type": "stream",
     "text": [
      "3.2407792894697563e-24 cm2 3.2407792894697564e-21 cm2 3.2407792894697562e-18 cm2\n"
     ]
    }
   ],
   "source": [
    "print (cross_section(10**-3), cross_section(1), cross_section(10**3))"
   ]
  },
  {
   "cell_type": "markdown",
   "metadata": {},
   "source": [
    "#### (2). Write a program that takes as input $\\sigma _\\nu$, $I _\\nu(0)$ and $S_\\nu$ and calculates the specific intensity at $s = D$, i.e.  $I _\\nu(D)$,\n",
    " I'using the analytic expression beacause the source function is constant"
   ]
  },
  {
   "cell_type": "code",
   "execution_count": 20,
   "metadata": {},
   "outputs": [
    {
     "name": "stdout",
     "output_type": "stream",
     "text": [
      "specific intensity 99.91004498500375 erg / (cm2 s sr)\n"
     ]
    }
   ],
   "source": [
    "nu0=10.0**12  #pick a frequency\n",
    "sgma=cross_section(10**-3) #pick a cross-section from the gaussian \n",
    "i0=100*INT_UNIT #pick an I_0\n",
    "s0=10*INT_UNIT #pick a source function\n",
    "t=tau(nu0, sgma)#calculate the total optical depth\n",
    "print ('specific intensity {}'.format(specific_intensity(i0, t, s0)))"
   ]
  },
  {
   "cell_type": "markdown",
   "metadata": {},
   "source": [
    "#### (3). Plot a a Gaussian cross-section"
   ]
  },
  {
   "cell_type": "code",
   "execution_count": 310,
   "metadata": {},
   "outputs": [],
   "source": [
    "freqs=freqs=np.linspace(1, 15, 1000)\n",
    "#calculate sigma_0 for all three scenarios in (1)\n",
    "sigmas0s=cross_section([10**-3, 1, 10**3])\n",
    "sigmas=np.array([gaussian(freqs)*sigma0 for sigma0 in freqs])"
   ]
  },
  {
   "cell_type": "code",
   "execution_count": 311,
   "metadata": {},
   "outputs": [
    {
     "data": {
      "text/plain": [
       "[<matplotlib.lines.Line2D at 0x82f40feb8>]"
      ]
     },
     "execution_count": 311,
     "metadata": {},
     "output_type": "execute_result"
    },
    {
     "data": {
      "image/png": "[encoded data removed]",
      "text/plain": [
       "<Figure size 432x288 with 1 Axes>"
      ]
     },
     "metadata": {
      "needs_background": "light"
     },
     "output_type": "display_data"
    }
   ],
   "source": [
    "fig, ax=plt.subplots()\n",
    "#ax.set_xscale('log')\n",
    "#ax.set_yscale('log')\n",
    "ax.plot(freqs, sigmas[0])\n",
    "ax.plot(freqs, sigmas[1])\n",
    "ax.plot(freqs, sigmas[2])"
   ]
  },
  {
   "cell_type": "code",
   "execution_count": 304,
   "metadata": {},
   "outputs": [],
   "source": [
    "#comment I wasn't able to separate the three curves but you can see the small spread at nu=10"
   ]
  },
  {
   "cell_type": "markdown",
   "metadata": {},
   "source": [
    "#### (4) Reproduce the figures from the handout"
   ]
  },
  {
   "cell_type": "code",
   "execution_count": 305,
   "metadata": {},
   "outputs": [],
   "source": [
    "#case by case \n",
    "#a) tau >>1\n",
    "ia=10.0*INT_UNIT #pick an I_0\n",
    "sa=10.0*INT_UNIT #pick a source function\n",
    "ta=tau(freqs, cross_section(10**36))#calculate the total optical depth\n",
    "ia=specific_intensity(ia, ta, s0)\n",
    "\n",
    "#b) I_0=0, tau<1\n",
    "ib0=0.0*INT_UNIT #pick an I_0\n",
    "sb=10.0*INT_UNIT #pick a source function\n",
    "tb=tau(freqs, cross_section(10**-3))#calculate the total optical depth\n",
    "ib=specific_intensity(ib0, tb, sb)\n",
    "\n",
    "#c) \n",
    "ic0=2.0*INT_UNIT #pick an I_0\n",
    "sc=3.0*INT_UNIT #pick a source function\n",
    "tc=tau(freqs, cross_section(10**-3))#calculate the total optical depth\n",
    "ic=specific_intensity(ic0, tc, sc)\n",
    "\n",
    "#d) \n",
    "id0=10.0*INT_UNIT #pick an I_0\n",
    "sd=3.0*INT_UNIT #pick a source function\n",
    "td=tau(freqs, cross_section(10**-3))#calculate the total optical depth\n",
    "i_d=specific_intensity(id0, td, sd)\n",
    "\n",
    "#e) \n",
    "ie0=1.0*INT_UNIT #pick an I_0\n",
    "se=30.0*INT_UNIT #pick a source function\n",
    "te=tau(freqs, cross_section(10**3))#calculate the total optical depth\n",
    "ie=specific_intensity(ie0, te, se)\n",
    "\n",
    "#f) \n",
    "if0=10.0*INT_UNIT #pick an I_0\n",
    "sf=3.0*INT_UNIT #pick a source function\n",
    "tf=tau(freqs, cross_section(10**3))#calculate the total optical depth\n",
    "i_f=specific_intensity(if0, tf, sf)"
   ]
  },
  {
   "cell_type": "code",
   "execution_count": 285,
   "metadata": {},
   "outputs": [
    {
     "data": {
      "text/latex": [
       "$[6.6396772 \\times 10^{-24},~8.5430596 \\times 10^{-24},~1.0987764 \\times 10^{-23},~\\dots,~18.36627,~15.974039,~13.887944] \\; \\mathrm{}$"
      ],
      "text/plain": [
       "<Quantity [6.63967720e-24, 8.54305957e-24, 1.09877639e-23, 1.41265015e-23,\n",
       "           1.81547108e-23, 2.33224122e-23, 2.99493232e-23, 3.84441245e-23,\n",
       "           4.93290048e-23, 6.32709196e-23, 8.11213849e-23, 1.03967112e-22,\n",
       "           1.33194417e-22, 1.70571110e-22, 2.18350579e-22, 2.79404010e-22,\n",
       "           3.57388305e-22, 4.56959231e-22, 5.84041878e-22, 7.46173701e-22,\n",
       "           9.52939442e-22, 1.21652232e-21, 1.55240231e-21, 1.98024028e-21,\n",
       "           2.52499730e-21, 3.21835065e-21, 4.10048491e-21, 5.22235622e-21,\n",
       "           6.64855370e-21, 8.46091410e-21, 1.07630859e-20, 1.36862901e-20,\n",
       "           1.73965886e-20, 2.21040503e-20, 2.80743069e-20, 3.56431141e-20,\n",
       "           4.52346938e-20, 5.73848280e-20, 7.27699253e-20, 9.22435885e-20,\n",
       "           1.16882601e-19, 1.48044732e-19, 1.87441376e-19, 2.37228786e-19,\n",
       "           3.00122617e-19, 3.79541683e-19, 4.79788295e-19, 6.06274404e-19,\n",
       "           7.65805064e-19, 9.66933596e-19, 1.22040642e-18, 1.53971992e-18,\n",
       "           1.94181742e-18, 2.44796086e-18, 3.08482097e-18, 3.88583963e-18,\n",
       "           4.89293221e-18, 6.15861335e-18, 7.74865091e-18, 9.74537751e-18,\n",
       "           1.22518213e-17, 1.53968563e-17, 1.93416213e-17, 2.42875166e-17,\n",
       "           3.04861624e-17, 3.82517954e-17, 4.79766926e-17, 6.01503559e-17,\n",
       "           7.53833639e-17, 9.44370127e-17, 1.18260139e-16, 1.48034841e-16,\n",
       "           1.85233237e-16, 2.31687875e-16, 2.89679066e-16, 3.62043148e-16,\n",
       "           4.52306645e-16, 5.64852454e-16, 7.05125609e-16, 8.79887951e-16,\n",
       "           1.09753321e-15, 1.36847662e-15, 1.70563663e-15, 2.12502997e-15,\n",
       "           2.64650683e-15, 3.29465843e-15, 4.09993704e-15, 5.10003780e-15,\n",
       "           6.34160253e-15, 7.88231991e-15, 9.79351316e-15, 1.21633270e-14,\n",
       "           1.51006509e-14, 1.87399474e-14, 2.32471910e-14, 2.88271705e-14,\n",
       "           3.57324639e-14, 4.42744655e-14, 5.48369265e-14, 6.78925780e-14,\n",
       "           8.40235274e-14, 1.03946276e-13, 1.28542392e-13, 1.58896098e-13,\n",
       "           1.96340325e-13, 2.42513094e-13, 2.99426543e-13, 3.69551369e-13,\n",
       "           4.55920111e-13, 5.62253412e-13, 6.93114309e-13, 8.54096704e-13,\n",
       "           1.05205548e-12, 1.29538736e-12, 1.59437356e-12, 1.96159762e-12,\n",
       "           2.41245480e-12, 2.96577268e-12, 3.64456709e-12, 4.47696249e-12,\n",
       "           5.49731188e-12, 6.74755935e-12, 8.27889674e-12, 1.01537773e-11,\n",
       "           1.24483622e-11, 1.52554919e-11, 1.86882928e-11, 2.28845544e-11,\n",
       "           2.80120380e-11, 3.42749135e-11, 4.19215609e-11, 5.12540203e-11,\n",
       "           6.26394369e-11, 7.65239129e-11, 9.34492688e-11, 1.14073315e-10,\n",
       "           1.39194358e-10, 1.69780817e-10, 2.07006994e-10, 2.52296274e-10,\n",
       "           3.07373250e-10, 3.74326624e-10, 4.55685050e-10, 5.54508567e-10,\n",
       "           6.74498759e-10, 8.20131447e-10, 9.96816437e-10, 1.21108976e-09,\n",
       "           1.47084494e-09, 1.78561104e-09, 2.16688693e-09, 2.62854280e-09,\n",
       "           3.18730242e-09, 3.86332201e-09, 4.68088486e-09, 5.66923454e-09,\n",
       "           6.86357377e-09, 8.30626156e-09, 1.00482473e-08, 1.21507880e-08,\n",
       "           1.46875036e-08, 1.77468364e-08, 2.14349918e-08, 2.58794542e-08,\n",
       "           3.12331882e-08, 3.76796569e-08, 4.54388129e-08, 5.47742488e-08,\n",
       "           6.60017268e-08, 7.94993508e-08, 9.57196896e-08, 1.15204222e-07,\n",
       "           1.38600541e-07, 1.66682833e-07, 2.00376245e-07, 2.40785878e-07,\n",
       "           2.89231244e-07, 3.47287229e-07, 4.16832754e-07, 5.00108547e-07,\n",
       "           5.99785734e-07, 7.19047205e-07, 8.61684119e-07, 1.03221031e-06,\n",
       "           1.23599783e-06, 1.47943756e-06, 1.77012929e-06, 2.11710673e-06,\n",
       "           2.53110367e-06, 3.02486870e-06, 3.61353727e-06, 4.31507119e-06,\n",
       "           5.15077770e-06, 6.14592229e-06, 7.33045171e-06, 8.73984692e-06,\n",
       "           1.04161285e-05, 1.24090419e-05, 1.47774529e-05, 1.75909922e-05,\n",
       "           2.09319892e-05, 2.48977490e-05, 2.96032288e-05, 3.51841849e-05,\n",
       "           4.18008702e-05, 4.96423769e-05, 5.89317350e-05, 6.99318959e-05,\n",
       "           8.29527510e-05, 9.83593613e-05, 1.16581603e-04, 1.38125467e-04,\n",
       "           1.63586294e-04, 1.93664260e-04, 2.29182507e-04, 2.71108332e-04,\n",
       "           3.20577975e-04, 3.78925570e-04, 4.47716973e-04, 5.28789254e-04,\n",
       "           6.24296785e-04, 7.36765009e-04, 8.69153134e-04, 1.02492721e-03,\n",
       "           1.20814529e-03, 1.42355654e-03, 1.67671671e-03, 1.97412241e-03,\n",
       "           2.32336734e-03, 2.73332389e-03, 3.21435420e-03, 3.77855528e-03,\n",
       "           4.44004370e-03, 5.21528594e-03, 6.12348164e-03, 7.18700805e-03,\n",
       "           8.43193516e-03, 9.88862255e-03, 1.15924107e-02, 1.35844210e-02,\n",
       "           1.59124818e-02, 1.86321995e-02, 2.18081962e-02, 2.55155410e-02,\n",
       "           2.98414026e-02, 3.48869577e-02, 4.07695935e-02, 4.76254486e-02,\n",
       "           5.56123430e-02, 6.49131556e-02, 7.57397149e-02, 8.83372808e-02,\n",
       "           1.02989702e-01, 1.20025353e-01, 1.39823961e-01, 1.62824451e-01,\n",
       "           1.89533971e-01, 2.20538245e-01, 2.56513475e-01, 2.98239985e-01,\n",
       "           3.46617885e-01, 4.02685030e-01, 4.67637592e-01, 5.42853651e-01,\n",
       "           6.29920185e-01, 7.30663989e-01, 8.47187027e-01, 9.81906887e-01,\n",
       "           1.13760301e+00, 1.31746950e+00, 1.52517552e+00, 1.76493412e+00,\n",
       "           2.04158086e+00, 2.36066352e+00, 2.72854428e+00, 3.15251630e+00,\n",
       "           3.64093637e+00, 4.20337614e+00, 4.85079404e+00, 5.59573103e+00,\n",
       "           6.45253312e+00, 7.43760431e+00, 8.56969395e+00, 9.87022313e+00,\n",
       "           1.13636551e+01, 1.30779157e+01, 1.50448700e+01, 1.73008627e+01,\n",
       "           1.98873307e+01, 2.28514965e+01, 2.62471537e+01, 3.01355552e+01,\n",
       "           3.45864188e+01, 3.96790631e+01, 4.55036924e+01, 5.21628466e+01,\n",
       "           5.97730400e+01, 6.84666093e+01, 7.83937992e+01, 8.97251142e+01,\n",
       "           1.02653968e+02, 1.17399671e+02, 1.34210791e+02, 1.53368936e+02,\n",
       "           1.75193016e+02, 2.00044028e+02, 2.28330436e+02, 2.60514223e+02,\n",
       "           2.97117673e+02, 3.38731003e+02, 3.86020907e+02, 4.39740151e+02,\n",
       "           5.00738323e+02, 5.69973883e+02, 6.48527650e+02, 7.37617910e+02,\n",
       "           8.38617315e+02, 9.53071784e+02, 1.08272164e+03, 1.22952520e+03,\n",
       "           1.39568518e+03, 1.58367813e+03, 1.79628723e+03, 2.03663904e+03,\n",
       "           2.30824424e+03, 2.61504323e+03, 2.96145679e+03, 3.35244254e+03,\n",
       "           3.79355777e+03, 4.29102926e+03, 4.85183101e+03, 5.48377050e+03,\n",
       "           6.19558461e+03, 6.99704599e+03, 7.89908125e+03, 8.91390186e+03,\n",
       "           1.00551495e+04, 1.13380569e+04, 1.27796260e+04, 1.43988257e+04,\n",
       "           1.62168097e+04, 1.82571583e+04, 2.05461454e+04, 2.31130336e+04,\n",
       "           2.59903996e+04, 2.92144948e+04, 3.28256413e+04, 3.68686702e+04,\n",
       "           4.13934042e+04, 4.64551888e+04, 5.21154786e+04, 5.84424814e+04,\n",
       "           6.55118675e+04, 7.34075496e+04, 8.22225404e+04, 9.20598938e+04,\n",
       "           1.03033740e+05, 1.15270420e+05, 1.28909730e+05, 1.44106291e+05,\n",
       "           1.61031040e+05, 1.79872872e+05, 2.00840437e+05, 2.24164100e+05,\n",
       "           2.50098093e+05, 2.78922863e+05, 3.10947640e+05, 3.46513238e+05,\n",
       "           3.85995118e+05, 4.29806727e+05, 4.78403140e+05, 5.32285026e+05,\n",
       "           5.92002980e+05, 6.58162224e+05, 7.31427739e+05, 8.12529835e+05,\n",
       "           9.02270218e+05, 1.00152857e+06, 1.11126972e+06, 1.23255138e+06,\n",
       "           1.36653261e+06, 1.51448294e+06, 1.67779225e+06, 1.85798156e+06,\n",
       "           2.05671459e+06, 2.27581039e+06, 2.51725688e+06, 2.78322562e+06,\n",
       "           3.07608765e+06, 3.39843067e+06, 3.75307755e+06, 4.14310631e+06,\n",
       "           4.57187167e+06, 5.04302826e+06, 5.56055561e+06, 6.12878505e+06,\n",
       "           6.75242870e+06, 7.43661057e+06, 8.18690004e+06, 9.00934777e+06,\n",
       "           9.91052430e+06, 1.08975614e+07, 1.19781966e+07, 1.31608204e+07,\n",
       "           1.44545276e+07, 1.58691718e+07, 1.74154233e+07, 1.91048320e+07,\n",
       "           2.09498938e+07, 2.29641220e+07, 2.51621230e+07, 2.75596775e+07,\n",
       "           3.01738271e+07, 3.30229661e+07, 3.61269398e+07, 3.95071489e+07,\n",
       "           4.31866600e+07, 4.71903242e+07, 5.15449023e+07, 5.62791974e+07,\n",
       "           6.14241968e+07, 6.70132209e+07, 7.30820825e+07, 7.96692542e+07,\n",
       "           8.68160464e+07, 9.45667955e+07, 1.02969062e+08, 1.12073841e+08,\n",
       "           1.21935783e+08, 1.32613428e+08, 1.44169452e+08, 1.56670926e+08,\n",
       "           1.70189588e+08, 1.84802134e+08, 2.00590513e+08, 2.17642253e+08,\n",
       "           2.36050787e+08, 2.55915805e+08, 2.77343620e+08, 3.00447549e+08,\n",
       "           3.25348319e+08, 3.52174483e+08, 3.81062856e+08, 4.12158980e+08,\n",
       "           4.45617596e+08, 4.81603141e+08, 5.20290272e+08, 5.61864401e+08,\n",
       "           6.06522258e+08, 6.54472474e+08, 7.05936184e+08, 7.61147659e+08,\n",
       "           8.20354954e+08, 8.83820578e+08, 9.51822198e+08, 1.02465335e+09,\n",
       "           1.10262419e+09, 1.18606225e+09, 1.27531323e+09, 1.37074182e+09,\n",
       "           1.47273251e+09, 1.58169049e+09, 1.69804247e+09, 1.82223762e+09,\n",
       "           1.95474848e+09, 2.09607189e+09, 2.24672998e+09, 2.40727111e+09,\n",
       "           2.57827087e+09, 2.76033311e+09, 2.95409096e+09, 3.16020785e+09,\n",
       "           3.37937859e+09, 3.61233038e+09, 3.85982393e+09, 4.12265451e+09,\n",
       "           4.40165301e+09, 4.69768705e+09, 5.01166202e+09, 5.34452218e+09,\n",
       "           5.69725172e+09, 6.07087580e+09, 6.46646161e+09, 6.88511938e+09,\n",
       "           7.32800339e+09, 7.79631296e+09, 8.29129337e+09, 8.81423683e+09,\n",
       "           9.36648333e+09, 9.94942149e+09, 1.05644893e+10, 1.12131751e+10,\n",
       "           1.18970179e+10, 1.26176084e+10, 1.33765891e+10, 1.41756553e+10,\n",
       "           1.50165552e+10, 1.59010904e+10, 1.68311159e+10, 1.78085406e+10,\n",
       "           1.88353271e+10, 1.99134918e+10, 2.10451045e+10, 2.22322884e+10,\n",
       "           2.34772198e+10, 2.47821271e+10, 2.61492905e+10, 2.75810410e+10,\n",
       "           2.90797597e+10, 3.06478766e+10, 3.22878689e+10, 3.40022604e+10,\n",
       "           3.57936190e+10, 3.76645557e+10, 3.96177223e+10, 4.16558089e+10,\n",
       "           4.37815424e+10, 4.59976832e+10, 4.83070229e+10, 5.07123814e+10,\n",
       "           5.32166035e+10, 5.58225556e+10, 5.85331226e+10, 6.13512036e+10,\n",
       "           6.42797082e+10, 6.73215523e+10, 7.04796538e+10, 7.37569277e+10,\n",
       "           7.71562816e+10, 8.06806107e+10, 8.43327922e+10, 8.81156802e+10,\n",
       "           9.20321000e+10, 9.60848422e+10, 1.00276657e+11, 1.04610247e+11,\n",
       "           1.09088262e+11, 1.13713293e+11, 1.18487862e+11, 1.23414420e+11,\n",
       "           1.28495336e+11, 1.33732892e+11, 1.39129277e+11, 1.44686574e+11,\n",
       "           1.50406759e+11, 1.56291691e+11, 1.62343102e+11, 1.68562595e+11,\n",
       "           1.74951629e+11, 1.81511518e+11, 1.88243420e+11, 1.95148327e+11,\n",
       "           2.02227065e+11, 2.09480277e+11, 2.16908422e+11, 2.24511767e+11,\n",
       "           2.32290375e+11, 2.40244104e+11, 2.48372596e+11, 2.56675272e+11,\n",
       "           2.65151324e+11, 2.73799711e+11, 2.82619150e+11, 2.91608113e+11,\n",
       "           3.00764819e+11, 3.10087231e+11, 3.19573048e+11, 3.29219707e+11,\n",
       "           3.39024370e+11, 3.48983929e+11, 3.59094996e+11, 3.69353904e+11,\n",
       "           3.79756705e+11, 3.90299166e+11, 4.00976768e+11, 4.11784707e+11,\n",
       "           4.22717894e+11, 4.33770953e+11, 4.44938224e+11, 4.56213762e+11,\n",
       "           4.67591344e+11, 4.79064467e+11, 4.90626353e+11, 5.02269954e+11,\n",
       "           5.13987956e+11, 5.25772784e+11, 5.37616607e+11, 5.49511348e+11,\n",
       "           5.61448688e+11, 5.73420074e+11, 5.85416730e+11, 5.97429662e+11,\n",
       "           6.09449674e+11, 6.21467372e+11, 6.33473179e+11, 6.45457343e+11,\n",
       "           6.57409955e+11, 6.69320954e+11, 6.81180148e+11, 6.92977222e+11,\n",
       "           7.04701753e+11, 7.16343228e+11, 7.27891056e+11, 7.39334585e+11,\n",
       "           7.50663115e+11, 7.61865920e+11, 7.72932257e+11, 7.83851392e+11,\n",
       "           7.94612606e+11, 8.05205222e+11, 8.15618618e+11, 8.25842244e+11,\n",
       "           8.35865641e+11, 8.45678458e+11, 8.55270472e+11, 8.64631601e+11,\n",
       "           8.73751925e+11, 8.82621703e+11, 8.91231391e+11, 8.99571655e+11,\n",
       "           9.07633394e+11, 9.15407751e+11, 9.22886133e+11, 9.30060223e+11,\n",
       "           9.36921999e+11, 9.43463749e+11, 9.49678082e+11, 9.55557944e+11,\n",
       "           9.61096632e+11, 9.66287806e+11, 9.71125501e+11, 9.75604137e+11,\n",
       "           9.79718533e+11, 9.83463915e+11, 9.86835925e+11, 9.89830629e+11,\n",
       "           9.92444526e+11, 9.94674557e+11, 9.96518103e+11, 9.97973001e+11,\n",
       "           9.99037539e+11, 9.99710463e+11, 9.99990982e+11, 9.99878765e+11,\n",
       "           9.99373944e+11, 9.98477114e+11, 9.97189331e+11, 9.95512109e+11,\n",
       "           9.93447421e+11, 9.90997689e+11, 9.88165784e+11, 9.84955020e+11,\n",
       "           9.81369146e+11, 9.77412338e+11, 9.73089194e+11, 9.68404722e+11,\n",
       "           9.63364331e+11, 9.57973822e+11, 9.52239378e+11, 9.46167546e+11,\n",
       "           9.39765232e+11, 9.33039684e+11, 9.25998478e+11, 9.18649505e+11,\n",
       "           9.11000959e+11, 9.03061314e+11, 8.94839317e+11, 8.86343966e+11,\n",
       "           8.77584499e+11, 8.68570369e+11, 8.59311238e+11, 8.49816950e+11,\n",
       "           8.40097519e+11, 8.30163110e+11, 8.20024021e+11, 8.09690669e+11,\n",
       "           7.99173564e+11, 7.88483301e+11, 7.77630537e+11, 7.66625972e+11,\n",
       "           7.55480338e+11, 7.44204375e+11, 7.32808820e+11, 7.21304384e+11,\n",
       "           7.09701743e+11, 6.98011515e+11, 6.86244249e+11, 6.74410408e+11,\n",
       "           6.62520356e+11, 6.50584338e+11, 6.38612473e+11, 6.26614739e+11,\n",
       "           6.14600954e+11, 6.02580772e+11, 5.90563668e+11, 5.78558923e+11,\n",
       "           5.66575620e+11, 5.54622628e+11, 5.42708598e+11, 5.30841950e+11,\n",
       "           5.19030865e+11, 5.07283281e+11, 4.95606882e+11, 4.84009097e+11,\n",
       "           4.72497087e+11, 4.61077746e+11, 4.49757696e+11, 4.38543281e+11,\n",
       "           4.27440565e+11, 4.16455329e+11, 4.05593072e+11, 3.94859006e+11,\n",
       "           3.84258058e+11, 3.73794868e+11, 3.63473792e+11, 3.53298899e+11,\n",
       "           3.43273977e+11, 3.33402533e+11, 3.23687795e+11, 3.14132716e+11,\n",
       "           3.04739976e+11, 2.95511989e+11, 2.86450903e+11, 2.77558609e+11,\n",
       "           2.68836743e+11, 2.60286691e+11, 2.51909599e+11, 2.43706372e+11,\n",
       "           2.35677688e+11, 2.27823998e+11, 2.20145537e+11, 2.12642327e+11,\n",
       "           2.05314189e+11, 1.98160745e+11, 1.91181429e+11, 1.84375494e+11,\n",
       "           1.77742018e+11, 1.71279912e+11, 1.64987929e+11, 1.58864671e+11,\n",
       "           1.52908595e+11, 1.47118025e+11, 1.41491154e+11, 1.36026056e+11,\n",
       "           1.30720693e+11, 1.25572919e+11, 1.20580493e+11, 1.15741081e+11,\n",
       "           1.11052267e+11, 1.06511559e+11, 1.02116394e+11, 9.78641461e+10,\n",
       "           9.37521356e+10, 8.97776314e+10, 8.59378595e+10, 8.22300089e+10,\n",
       "           7.86512370e+10, 7.51986759e+10, 7.18694374e+10, 6.86606187e+10,\n",
       "           6.55693072e+10, 6.25925858e+10, 5.97275371e+10, 5.69712484e+10,\n",
       "           5.43208155e+10, 5.17733470e+10, 4.93259681e+10, 4.69758243e+10,\n",
       "           4.47200846e+10, 4.25559451e+10, 4.04806314e+10, 3.84914021e+10,\n",
       "           3.65855511e+10, 3.47604097e+10, 3.30133493e+10, 3.13417833e+10,\n",
       "           2.97431687e+10, 2.82150083e+10, 2.67548515e+10, 2.53602963e+10,\n",
       "           2.40289900e+10, 2.27586306e+10, 2.15469673e+10, 2.03918014e+10,\n",
       "           1.92909870e+10, 1.82424313e+10, 1.72440950e+10, 1.62939924e+10,\n",
       "           1.53901917e+10, 1.45308147e+10, 1.37140369e+10, 1.29380873e+10,\n",
       "           1.22012481e+10, 1.15018541e+10, 1.08382925e+10, 1.02090021e+10,\n",
       "           9.61247310e+09, 9.04724593e+09, 8.51191092e+09, 8.00510734e+09,\n",
       "           7.52552261e+09, 7.07189145e+09, 6.64299495e+09, 6.23765965e+09,\n",
       "           5.85475656e+09, 5.49320017e+09, 5.15194744e+09, 4.82999674e+09,\n",
       "           4.52638684e+09, 4.24019581e+09, 3.97053998e+09, 3.71657285e+09,\n",
       "           3.47748401e+09, 3.25249809e+09, 3.04087363e+09, 2.84190209e+09,\n",
       "           2.65490672e+09, 2.47924152e+09, 2.31429023e+09, 2.15946526e+09,\n",
       "           2.01420671e+09, 1.87798133e+09, 1.75028157e+09, 1.63062457e+09,\n",
       "           1.51855128e+09, 1.41362545e+09, 1.31543280e+09, 1.22358006e+09,\n",
       "           1.13769417e+09, 1.05742138e+09, 9.82426482e+08, 9.12391957e+08,\n",
       "           8.47017243e+08, 7.86017962e+08, 7.29125194e+08, 6.76084774e+08,\n",
       "           6.26656604e+08, 5.80613998e+08, 5.37743041e+08, 4.97841975e+08,\n",
       "           4.60720608e+08, 4.26199742e+08, 3.94110623e+08, 3.64294417e+08,\n",
       "           3.36601701e+08, 3.10891975e+08, 2.87033200e+08, 2.64901349e+08,\n",
       "           2.44379978e+08, 2.25359821e+08, 2.07738396e+08, 1.91419630e+08,\n",
       "           1.76313508e+08, 1.62335730e+08, 1.49407384e+08, 1.37454646e+08,\n",
       "           1.26408478e+08, 1.16204352e+08, 1.06781988e+08, 9.80850969e+07,\n",
       "           9.00611451e+07, 8.26611264e+07, 7.58393478e+07, 6.95532256e+07,\n",
       "           6.37630932e+07, 5.84320191e+07, 5.35256348e+07, 4.90119717e+07,\n",
       "           4.48613086e+07, 4.10460261e+07, 3.75404706e+07, 3.43208253e+07,\n",
       "           3.13649896e+07, 2.86524649e+07, 2.61642474e+07, 2.38827273e+07,\n",
       "           2.17915944e+07, 1.98757494e+07, 1.81212199e+07, 1.65150832e+07,\n",
       "           1.50453923e+07, 1.37011078e+07, 1.24720334e+07, 1.13487561e+07,\n",
       "           1.03225899e+07, 9.38552351e+06, 8.53017117e+06, 7.74972702e+06,\n",
       "           7.03792250e+06, 6.38898650e+06, 5.79760839e+06, 5.25890346e+06,\n",
       "           4.76838086e+06, 4.32191368e+06, 3.91571123e+06, 3.54629321e+06,\n",
       "           3.21046574e+06, 2.90529914e+06, 2.62810726e+06, 2.37642839e+06,\n",
       "           2.14800750e+06, 1.94077983e+06, 1.75285570e+06, 1.58250639e+06,\n",
       "           1.42815122e+06, 1.28834547e+06, 1.16176929e+06, 1.04721743e+06,\n",
       "           9.43589823e+05, 8.49882819e+05, 7.65181158e+05, 6.88650553e+05,\n",
       "           6.19530866e+05, 5.57129831e+05, 5.00817265e+05, 4.50019764e+05,\n",
       "           4.04215812e+05, 3.62931300e+05, 3.25735406e+05, 2.92236814e+05,\n",
       "           2.62080252e+05, 2.34943312e+05, 2.10533539e+05, 1.88585766e+05,\n",
       "           1.68859673e+05, 1.51137556e+05, 1.35222283e+05, 1.20935428e+05,\n",
       "           1.08115570e+05, 9.66167345e+04, 8.63069727e+04, 7.70670665e+04,\n",
       "           6.87893472e+04, 6.13766193e+04, 5.47411799e+04, 4.88039261e+04,\n",
       "           4.34935426e+04, 3.87457633e+04, 3.45026993e+04, 3.07122294e+04,\n",
       "           2.73274449e+04, 2.43061474e+04, 2.16103919e+04, 1.92060729e+04,\n",
       "           1.70625493e+04, 1.51523042e+04, 1.34506372e+04, 1.19353856e+04,\n",
       "           1.05866721e+04, 9.38667727e+03, 8.31943296e+03, 7.37063630e+03,\n",
       "           6.52748155e+03, 5.77850828e+03, 5.11346446e+03, 4.52318301e+03,\n",
       "           3.99947046e+03, 3.53500671e+03, 3.12325473e+03, 2.75837931e+03,\n",
       "           2.43517391e+03, 2.14899494e+03, 1.89570266e+03, 1.67160808e+03,\n",
       "           1.47342529e+03, 1.29822866e+03, 1.14341447e+03, 1.00666643e+03,\n",
       "           8.85924899e+02, 7.79359158e+02, 6.85342705e+02, 6.02431069e+02,\n",
       "           5.29341988e+02, 4.64937677e+02, 4.08208981e+02, 3.58261207e+02,\n",
       "           3.14301482e+02, 2.75627464e+02, 2.41617266e+02, 2.11720473e+02,\n",
       "           1.85450139e+02, 1.62375644e+02, 1.42116343e+02, 1.24335910e+02,\n",
       "           1.08737300e+02, 9.50582756e+01, 8.30674219e+01, 7.25606138e+01,\n",
       "           6.33578716e+01, 5.53005724e+01, 4.82489747e+01, 4.20800228e+01,\n",
       "           3.66854002e+01, 3.19698037e+01, 2.78494161e+01, 2.42505524e+01,\n",
       "           2.11084620e+01, 1.83662699e+01, 1.59740393e+01, 1.38879439e+01]>"
      ]
     },
     "execution_count": 285,
     "metadata": {},
     "output_type": "execute_result"
    }
   ],
   "source": [
    "tf"
   ]
  },
  {
   "cell_type": "code",
   "execution_count": 307,
   "metadata": {},
   "outputs": [
    {
     "data": {
      "image/png": "[encoded data removed]",
      "text/plain": [
       "<Figure size 1008x432 with 6 Axes>"
      ]
     },
     "metadata": {
      "needs_background": "light"
     },
     "output_type": "display_data"
    }
   ],
   "source": [
    "fig, ax=plt.subplots(ncols=3, nrows=2, figsize=(14, 6))\n",
    "ax[0][0].plot(freqs, ia)\n",
    "ax[0][0].set_title('a)', fontsize=16)\n",
    "ax[0][1].plot(freqs, ib)\n",
    "ax[0][1].set_title('b)', fontsize=16)\n",
    "ax[0][2].plot(freqs, ic)\n",
    "ax[0][2].set_title('c)', fontsize=16)\n",
    "\n",
    "ax[1][0].plot(freqs, i_d)\n",
    "ax[1][0].set_title('d)', fontsize=16)\n",
    "ax[1][1].plot(freqs, ie)\n",
    "ax[1][1].set_title('e)', fontsize=16)\n",
    "ax[1][2].plot(freqs, i_f)\n",
    "ax[1][2].set_title('f)', fontsize=16)\n",
    "\n",
    "#automatically set all labels\n",
    "xlabel= lambda axi: axi.set_xlabel(r'$\\nu \\;[Hz]$')\n",
    "ylabel= lambda axi: axi.set_ylabel(r'$I_\\nu \\;[{}]$'.format(INT_UNIT))\n",
    "\n",
    "vfunc1 = np.vectorize(xlabel)\n",
    "vfunc2 = np.vectorize(ylabel)\n",
    "\n",
    "vfunc1(ax)\n",
    "vfunc2(ax)\n",
    "\n",
    "plt.tight_layout()"
   ]
  },
  {
   "cell_type": "code",
   "execution_count": null,
   "metadata": {},
   "outputs": [],
   "source": []
  }
 ],
 "metadata": {
  "kernelspec": {
   "display_name": "Python 3",
   "language": "python",
   "name": "python3"
  },
  "language_info": {
   "codemirror_mode": {
    "name": "ipython",
    "version": 3
   },
   "file_extension": ".py",
   "mimetype": "text/x-python",
   "name": "python",
   "nbconvert_exporter": "python",
   "pygments_lexer": "ipython3",
   "version": "3.6.6"
  }
 },
 "nbformat": 4,
 "nbformat_minor": 2
}
