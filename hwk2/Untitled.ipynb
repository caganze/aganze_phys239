{
 "cells": [
  {
   "cell_type": "code",
   "execution_count": 1,
   "metadata": {},
   "outputs": [
    {
     "data": {
      "application/javascript": [
       "IPython.notebook.set_autosave_interval(120000)"
      ]
     },
     "metadata": {},
     "output_type": "display_data"
    },
    {
     "name": "stdout",
     "output_type": "stream",
     "text": [
      "Autosaving every 120 seconds\n"
     ]
    }
   ],
   "source": [
    "import numpy as np\n",
    "import matplotlib.pyplot as plt\n",
    "import astropy.units as u\n",
    "%matplotlib inline\n",
    "%autosave 120"
   ]
  },
  {
   "cell_type": "code",
   "execution_count": 2,
   "metadata": {},
   "outputs": [],
   "source": [
    "#define constants \n",
    "D=100*u.pc.to(u.cm)*u.cm\n",
    "N=1*u.cm**-3\n",
    "INT_UNIT=u.erg/(u.s*(u.cm**2)*u.steradian) #unit for the intensity"
   ]
  },
  {
   "cell_type": "markdown",
   "metadata": {},
   "source": [
    "The specific intensity for a a constant source function is given by \n",
    "$$\n",
    "I= I_0 e^{-\\tau}+ \\int _{\n",
    "    0} ^{\\tau} e^{-(\\tau - \\tau')} S d\\tau'\n",
    "$$\n",
    "$$\n",
    "I= e^{-\\tau}(I_0-S)+S\n",
    "$$ and $\\tau = n \\sigma _\\nu D$"
   ]
  },
  {
   "cell_type": "code",
   "execution_count": 3,
   "metadata": {},
   "outputs": [],
   "source": [
    "def cross_section(t):\n",
    "    return t/(N*D)"
   ]
  },
  {
   "cell_type": "code",
   "execution_count": 4,
   "metadata": {},
   "outputs": [],
   "source": [
    "def gaussian(nu):\n",
    "    \"\"\"\n",
    "    a gaussian \n",
    "    \"\"\"\n",
    "    center=10 #center this in the terahertz region\n",
    "    var=.5\n",
    "    norm=1/(np.sqrt(2*np.pi*var))\n",
    "    #print (norm)\n",
    "    gauss=norm*np.exp(-(nu-center)**2/(2*var))\n",
    "    return gauss"
   ]
  },
  {
   "cell_type": "code",
   "execution_count": 5,
   "metadata": {},
   "outputs": [],
   "source": [
    "#define functions used in here\n",
    "def tau(nu, sigma0):\n",
    "    \"\"\"\n",
    "    frequency dependent optical length assuming a gaussian cross-section\n",
    "    \"\"\"\n",
    "    return N*D*gaussian(nu)*sigma0"
   ]
  },
  {
   "cell_type": "code",
   "execution_count": 6,
   "metadata": {},
   "outputs": [],
   "source": [
    "def specific_intensity(i_0, t, s):\n",
    "    \"\"\"\n",
    "    spefic intensity\n",
    "    \"\"\"\n",
    "    return s+np.exp(-t)*(i_0-s)"
   ]
  },
  {
   "cell_type": "markdown",
   "metadata": {},
   "source": [
    "#### (1). Column Density of the cloud "
   ]
  },
  {
   "cell_type": "code",
   "execution_count": 7,
   "metadata": {},
   "outputs": [
    {
     "name": "stdout",
     "output_type": "stream",
     "text": [
      "3.085677581467191e+20 1 / cm2\n"
     ]
    }
   ],
   "source": [
    "print (N*D)"
   ]
  },
  {
   "cell_type": "markdown",
   "metadata": {},
   "source": [
    "Cross-sections for $\\tau=10^{-3}$, $\\tau=1$, $\\tau=10^3$"
   ]
  },
  {
   "cell_type": "code",
   "execution_count": 8,
   "metadata": {},
   "outputs": [
    {
     "name": "stdout",
     "output_type": "stream",
     "text": [
      "3.2407792894697563e-24 cm2 3.2407792894697564e-21 cm2 3.2407792894697562e-18 cm2\n"
     ]
    }
   ],
   "source": [
    "print (cross_section(10**-3), cross_section(1), cross_section(10**3))"
   ]
  },
  {
   "cell_type": "markdown",
   "metadata": {},
   "source": [
    "#### (2). Write a program that takes as input $\\sigma _\\nu$, $I _\\nu(0)$ and $S_\\nu$ and calculates the specific intensity at $s = D$, i.e.  $I _\\nu(D)$,\n",
    " I'using the analytic expression beacause the source function is constant"
   ]
  },
  {
   "cell_type": "code",
   "execution_count": 9,
   "metadata": {},
   "outputs": [
    {
     "name": "stdout",
     "output_type": "stream",
     "text": [
      "specific intensity 100.0 erg / (cm2 s sr)\n"
     ]
    }
   ],
   "source": [
    "nu0=10.0**12  #pick a frequency\n",
    "sgma=cross_section(10**-3) #pick a cross-section from the gaussian \n",
    "i0=100*INT_UNIT #pick an I_0\n",
    "s0=10*INT_UNIT #pick a source function\n",
    "t=tau(nu0, sgma)#calculate the total optical depth\n",
    "print ('specific intensity {}'.format(specific_intensity(i0, t, s0)))"
   ]
  },
  {
   "cell_type": "markdown",
   "metadata": {},
   "source": [
    "#### (3). Plot a a Gaussian cross-section"
   ]
  },
  {
   "cell_type": "code",
   "execution_count": 10,
   "metadata": {},
   "outputs": [],
   "source": [
    "freqs=freqs=np.linspace(1, 15, 1000)\n",
    "#calculate sigma_0 for all three scenarios in (1)\n",
    "sigmas0s=cross_section([10**-3, 1, 10**3])\n",
    "sigmas=np.array([gaussian(freqs)*sigma0 for sigma0 in freqs])"
   ]
  },
  {
   "cell_type": "code",
   "execution_count": 11,
   "metadata": {},
   "outputs": [
    {
     "data": {
      "text/plain": [
       "[<matplotlib.lines.Line2D at 0x812bf2d68>]"
      ]
     },
     "execution_count": 11,
     "metadata": {},
     "output_type": "execute_result"
    },
    {
     "data": {
      "image/png": "[encoded data removed]",
      "text/plain": [
       "<Figure size 432x288 with 1 Axes>"
      ]
     },
     "metadata": {
      "needs_background": "light"
     },
     "output_type": "display_data"
    }
   ],
   "source": [
    "fig, ax=plt.subplots()\n",
    "#ax.set_xscale('log')\n",
    "#ax.set_yscale('log')\n",
    "ax.plot(freqs, sigmas[0])\n",
    "ax.plot(freqs, sigmas[1])\n",
    "ax.plot(freqs, sigmas[2])"
   ]
  },
  {
   "cell_type": "code",
   "execution_count": 12,
   "metadata": {},
   "outputs": [],
   "source": [
    "#sigmas"
   ]
  },
  {
   "cell_type": "code",
   "execution_count": 13,
   "metadata": {},
   "outputs": [],
   "source": [
    "#comment I wasn't able to separate the three curves but you can see the small spread at nu=10"
   ]
  },
  {
   "cell_type": "markdown",
   "metadata": {},
   "source": [
    "#### (4) Reproduce the figures from the handout"
   ]
  },
  {
   "cell_type": "code",
   "execution_count": 14,
   "metadata": {},
   "outputs": [],
   "source": [
    "#case by case \n",
    "#a) tau >>1\n",
    "ia=10.0*INT_UNIT #pick an I_0\n",
    "sa=10.0*INT_UNIT #pick a source function\n",
    "ta=tau(freqs, cross_section(10**36))#calculate the total optical depth\n",
    "ia=specific_intensity(ia, ta, s0)\n",
    "\n",
    "#b) I_0=0, tau<1\n",
    "ib0=0.0*INT_UNIT #pick an I_0\n",
    "sb=10.0*INT_UNIT #pick a source function\n",
    "tb=tau(freqs, cross_section(10**-3))#calculate the total optical depth\n",
    "ib=specific_intensity(ib0, tb, sb)\n",
    "\n",
    "#c) \n",
    "ic0=2.0*INT_UNIT #pick an I_0\n",
    "sc=3.0*INT_UNIT #pick a source function\n",
    "tc=tau(freqs, cross_section(10**-3))#calculate the total optical depth\n",
    "ic=specific_intensity(ic0, tc, sc)\n",
    "\n",
    "#d) \n",
    "id0=10.0*INT_UNIT #pick an I_0\n",
    "sd=3.0*INT_UNIT #pick a source function\n",
    "td=tau(freqs, cross_section(10**-3))#calculate the total optical depth\n",
    "i_d=specific_intensity(id0, td, sd)\n",
    "\n",
    "#e) \n",
    "ie0=1.0*INT_UNIT #pick an I_0\n",
    "se=30.0*INT_UNIT #pick a source function\n",
    "te=tau(freqs, cross_section(10**3))#calculate the total optical depth\n",
    "ie=specific_intensity(ie0, te, se)\n",
    "\n",
    "#f) \n",
    "if0=10.0*INT_UNIT #pick an I_0\n",
    "sf=3.0*INT_UNIT #pick a source function\n",
    "tf=tau(freqs, cross_section(10**3))#calculate the total optical depth\n",
    "i_f=specific_intensity(if0, tf, sf)"
   ]
  },
  {
   "cell_type": "code",
   "execution_count": 15,
   "metadata": {},
   "outputs": [
    {
     "data": {
      "text/latex": [
       "$[3.7460367 \\times 10^{-33},~4.8199052 \\times 10^{-33},~6.1991819 \\times 10^{-33},~\\dots,~1.0362058 \\times 10^{-8},~9.0123866 \\times 10^{-9},~7.8354333 \\times 10^{-9}] \\; \\mathrm{}$"
      ],
      "text/plain": [
       "<Quantity [3.74603671e-33, 4.81990522e-33, 6.19918195e-33, 7.97002499e-33,\n",
       "           1.02426987e-32, 1.31582620e-32, 1.68970962e-32, 2.16897746e-32,\n",
       "           2.78309107e-32, 3.56967938e-32, 4.57678403e-32, 5.86571617e-32,\n",
       "           7.51469026e-32, 9.62344437e-32, 1.23191122e-31, 1.57636832e-31,\n",
       "           2.01634759e-31, 2.57811639e-31, 3.29510344e-31, 4.20983430e-31,\n",
       "           5.37638507e-31, 6.86349224e-31, 8.75849210e-31, 1.11723094e-30,\n",
       "           1.42457717e-30, 1.81575991e-30, 2.31345087e-30, 2.94639898e-30,\n",
       "           3.75104474e-30, 4.77355960e-30, 6.07242095e-30, 7.72166232e-30,\n",
       "           9.81497408e-30, 1.24708749e-29, 1.58392315e-29, 2.01094737e-29,\n",
       "           2.55209431e-29, 3.23759222e-29, 4.10560339e-29, 5.20428718e-29,\n",
       "           6.59439457e-29, 8.35252955e-29, 1.05752472e-28, 1.33842010e-28,\n",
       "           1.69326055e-28, 2.14133464e-28, 2.70691558e-28, 3.42053704e-28,\n",
       "           4.32059240e-28, 5.45533863e-28, 6.88540587e-28, 8.68693942e-28,\n",
       "           1.09555316e-27, 1.38111402e-27, 1.74042386e-27, 2.19235025e-27,\n",
       "           2.76054139e-27, 3.47462550e-27, 4.37170813e-27, 5.49824048e-27,\n",
       "           6.91234997e-27, 8.68674596e-27, 1.09123413e-26, 1.37027639e-26,\n",
       "           1.71999753e-26, 2.15812645e-26, 2.70679502e-26, 3.39362043e-26,\n",
       "           4.25305087e-26, 5.32803789e-26, 6.67211384e-26, 8.35197154e-26,\n",
       "           1.04506663e-25, 1.30715886e-25, 1.63433911e-25, 2.04260973e-25,\n",
       "           2.55186698e-25, 3.18683871e-25, 3.97824524e-25, 4.96423617e-25,\n",
       "           6.19216803e-25, 7.72080257e-25, 9.62302418e-25, 1.19891977e-24,\n",
       "           1.49313159e-24, 1.85881197e-24, 2.31314177e-24, 2.87738820e-24,\n",
       "           3.57786609e-24, 4.44712279e-24, 5.52539811e-24, 6.86242237e-24,\n",
       "           8.51962992e-24, 1.05728831e-23, 1.31158230e-23, 1.62639893e-23,\n",
       "           2.01598839e-23, 2.49791923e-23, 3.09384227e-23, 3.83042853e-23,\n",
       "           4.74051990e-23, 5.86454062e-23, 7.25222785e-23, 8.96475235e-23,\n",
       "           1.10773166e-22, 1.36823362e-22, 1.68933337e-22, 2.08497033e-22,\n",
       "           2.57225377e-22, 3.17217518e-22, 3.91047874e-22, 4.81872464e-22,\n",
       "           5.93558743e-22, 7.30844055e-22, 8.99528953e-22, 1.10671295e-21,\n",
       "           1.36108187e-21, 1.67325805e-21, 2.05622679e-21, 2.52585560e-21,\n",
       "           3.10152610e-21, 3.80690270e-21, 4.67086730e-21, 5.72865538e-21,\n",
       "           7.02323630e-21, 8.60698963e-21, 1.05437402e-20, 1.29112272e-20,\n",
       "           1.58041000e-20, 1.93375492e-20, 2.36517080e-20, 2.89169844e-20,\n",
       "           3.53405178e-20, 4.31739945e-20, 5.27231041e-20, 6.43589761e-20,\n",
       "           7.85320069e-20, 9.57885683e-20, 1.16791190e-19, 1.42342930e-19,\n",
       "           1.73416786e-19, 2.11191182e-19, 2.57092759e-19, 3.12847957e-19,\n",
       "           3.80545174e-19, 4.62709620e-19, 5.62393451e-19, 6.83284228e-19,\n",
       "           8.29835391e-19, 1.00742315e-18, 1.22253503e-18, 1.48299647e-18,\n",
       "           1.79824283e-18, 2.17964603e-18, 2.64090648e-18, 3.19852307e-18,\n",
       "           3.87235683e-18, 4.68630625e-18, 5.66911647e-18, 6.85534802e-18,\n",
       "           8.28653657e-18, 1.00125803e-17, 1.20933991e-17, 1.46009185e-17,\n",
       "           1.76214395e-17, 2.12584700e-17, 2.56361049e-17, 3.09030606e-17,\n",
       "           3.72374868e-17, 4.48527056e-17, 5.40040518e-17, 6.49970222e-17,\n",
       "           7.81969818e-17, 9.40407181e-17, 1.13050190e-16, 1.35848884e-16,\n",
       "           1.63181255e-16, 1.95935837e-16, 2.35172698e-16, 2.82156033e-16,\n",
       "           3.38392864e-16, 4.05678943e-16, 4.86153204e-16, 5.82362302e-16,\n",
       "           6.97337100e-16, 8.34683262e-16, 9.98688509e-16, 1.19444957e-15,\n",
       "           1.42802232e-15, 1.70659941e-15, 2.03872009e-15, 2.43451822e-15,\n",
       "           2.90601513e-15, 3.46746533e-15, 4.13576450e-15, 4.93093059e-15,\n",
       "           5.87667121e-15, 7.00105216e-15, 8.33728502e-15, 9.92465456e-15,\n",
       "           1.18096103e-14, 1.40470506e-14, 1.67018333e-14, 1.98505506e-14,\n",
       "           2.35836156e-14, 2.80077119e-14, 3.32486710e-14, 3.94548472e-14,\n",
       "           4.68010781e-14, 5.54933271e-14, 6.57741260e-14, 7.79289497e-14,\n",
       "           9.22936829e-14, 1.09263358e-13, 1.29302383e-13, 1.52956497e-13,\n",
       "           1.80866754e-13, 2.13785859e-13, 2.52597252e-13, 2.98337389e-13,\n",
       "           3.52221743e-13, 4.15675143e-13, 4.90367145e-13, 5.78253258e-13,\n",
       "           6.81622987e-13, 8.03155770e-13, 9.45986100e-13, 1.11377930e-12,\n",
       "           1.31081965e-12, 1.54211287e-12, 1.81350516e-12, 2.13182153e-12,\n",
       "           2.50502641e-12, 2.94241000e-12, 3.45480456e-12, 4.05483508e-12,\n",
       "           4.75720998e-12, 5.57905784e-12, 6.54031735e-12, 7.66418881e-12,\n",
       "           8.97765649e-12, 1.05120929e-11, 1.23039571e-11, 1.43956024e-11,\n",
       "           1.68362085e-11, 1.96828581e-11, 2.30017800e-11, 2.68697820e-11,\n",
       "           3.13759046e-11, 3.66233262e-11, 4.27315582e-11, 4.98389736e-11,\n",
       "           5.81057172e-11, 6.77170542e-11, 7.88872222e-11, 9.18638593e-11,\n",
       "           1.06933092e-10, 1.24425381e-10, 1.44722230e-10, 1.68263893e-10,\n",
       "           1.95558200e-10, 2.27190699e-10, 2.63836258e-10, 3.06272375e-10,\n",
       "           3.55394407e-10, 4.12233012e-10, 4.77974096e-10, 5.53981638e-10,\n",
       "           6.41823766e-10, 7.43302571e-10, 8.60488144e-10, 9.95757446e-10,\n",
       "           1.15183866e-09, 1.33186177e-09, 1.53941626e-09, 1.77861686e-09,\n",
       "           2.05417838e-09, 2.37150103e-09, 2.73676747e-09, 3.15705316e-09,\n",
       "           3.64045197e-09, 4.19621888e-09, 4.83493206e-09, 5.56867708e-09,\n",
       "           6.41125585e-09, 7.37842382e-09, 8.48815893e-09, 9.76096652e-09,\n",
       "           1.12202248e-08, 1.28925763e-08, 1.48083707e-08, 1.70021663e-08,\n",
       "           1.95132972e-08, 2.23865141e-08, 2.56727093e-08, 2.94297347e-08,\n",
       "           3.37233266e-08, 3.86281478e-08, 4.42289649e-08, 5.06219748e-08,\n",
       "           5.79162996e-08, 6.62356716e-08, 7.57203301e-08, 8.65291561e-08,\n",
       "           9.88420748e-08, 1.12862757e-07, 1.28821654e-07, 1.46979411e-07,\n",
       "           1.67630696e-07, 1.91108504e-07, 2.17788975e-07, 2.48096813e-07,\n",
       "           2.82511346e-07, 3.21573328e-07, 3.65892545e-07, 4.16156341e-07,\n",
       "           4.73139154e-07, 5.37713173e-07, 6.10860269e-07, 6.93685310e-07,\n",
       "           7.87431043e-07, 8.93494702e-07, 1.01344655e-06, 1.14905053e-06,\n",
       "           1.30228736e-06, 1.47538015e-06, 1.67082307e-06, 1.89141316e-06,\n",
       "           2.14028578e-06, 2.42095401e-06, 2.73735252e-06, 3.09388620e-06,\n",
       "           3.49548430e-06, 3.94766047e-06, 4.45657936e-06, 5.02913058e-06,\n",
       "           5.67301060e-06, 6.39681357e-06, 7.21013188e-06, 8.12366748e-06,\n",
       "           9.14935510e-06, 1.03004985e-05, 1.15919212e-05, 1.30401328e-05,\n",
       "           1.46635127e-05, 1.64825137e-05, 1.85198849e-05, 2.08009197e-05,\n",
       "           2.33537275e-05, 2.62095336e-05, 2.94030102e-05, 3.29726392e-05,\n",
       "           3.69611132e-05, 4.14157748e-05, 4.63891008e-05, 5.19392331e-05,\n",
       "           5.81305628e-05, 6.50343700e-05, 7.27295270e-05, 8.13032684e-05,\n",
       "           9.08520354e-05, 1.01482401e-04, 1.13312083e-04, 1.26471050e-04,\n",
       "           1.41102739e-04, 1.57365374e-04, 1.75433420e-04, 1.95499159e-04,\n",
       "           2.17774425e-04, 2.42492479e-04, 2.69910068e-04, 3.00309667e-04,\n",
       "           3.34001915e-04, 3.71328271e-04, 4.12663911e-04, 4.58420869e-04,\n",
       "           5.09051459e-04, 5.65051988e-04, 6.26966800e-04, 6.95392651e-04,\n",
       "           7.70983467e-04, 8.54455498e-04, 9.46592911e-04, 1.04825384e-03,\n",
       "           1.16037695e-03, 1.28398851e-03, 1.42021011e-03, 1.57026690e-03,\n",
       "           1.73549661e-03, 1.91735918e-03, 2.11744726e-03, 2.33749742e-03,\n",
       "           2.57940238e-03, 2.84522402e-03, 3.13720755e-03, 3.45779668e-03,\n",
       "           3.80964993e-03, 4.19565822e-03, 4.61896372e-03, 5.08298017e-03,\n",
       "           5.59141458e-03, 6.14829064e-03, 6.75797374e-03, 7.42519778e-03,\n",
       "           8.15509393e-03, 8.95322141e-03, 9.82560039e-03, 1.07787472e-02,\n",
       "           1.18197119e-02, 1.29561184e-02, 1.41962077e-02, 1.55488830e-02,\n",
       "           1.70237589e-02, 1.86312135e-02, 2.03824431e-02, 2.22895219e-02,\n",
       "           2.43654637e-02, 2.66242894e-02, 2.90810969e-02, 3.17521370e-02,\n",
       "           3.46548920e-02, 3.78081612e-02, 4.12321497e-02, 4.49485633e-02,\n",
       "           4.89807091e-02, 5.33536010e-02, 5.80940723e-02, 6.32308937e-02,\n",
       "           6.87948987e-02, 7.48191149e-02, 8.13389033e-02, 8.83921045e-02,\n",
       "           9.60191930e-02, 1.04263439e-01, 1.13171078e-01, 1.22791492e-01,\n",
       "           1.33177395e-01, 1.44385032e-01, 1.56474381e-01, 1.69509378e-01,\n",
       "           1.83558133e-01, 1.98693175e-01, 2.14991694e-01, 2.32535803e-01,\n",
       "           2.51412806e-01, 2.71715476e-01, 2.93542352e-01, 3.16998043e-01,\n",
       "           3.42193540e-01, 3.69246552e-01, 3.98281842e-01, 4.29431581e-01,\n",
       "           4.62835720e-01, 4.98642364e-01, 5.37008169e-01, 5.78098747e-01,\n",
       "           6.22089082e-01, 6.69163965e-01, 7.19518438e-01, 7.73358254e-01,\n",
       "           8.30900344e-01, 8.92373299e-01, 9.58017874e-01, 1.02808748e+00,\n",
       "           1.10284873e+00, 1.18258193e+00, 1.26758165e+00, 1.35815728e+00,\n",
       "           1.45463357e+00, 1.55735119e+00, 1.66666735e+00, 1.78295635e+00,\n",
       "           1.90661020e+00, 2.03803917e+00, 2.17767246e+00, 2.32595873e+00,\n",
       "           2.48336678e+00, 2.65038610e+00, 2.82752751e+00, 3.01532374e+00,\n",
       "           3.21433007e+00, 3.42512489e+00, 3.64831028e+00, 3.88451264e+00,\n",
       "           4.13438318e+00, 4.39859856e+00, 4.67786135e+00, 4.97290061e+00,\n",
       "           5.28447233e+00, 5.61335997e+00, 5.96037484e+00, 6.32635661e+00,\n",
       "           6.71217360e+00, 7.11872321e+00, 7.54693222e+00, 7.99775705e+00,\n",
       "           8.47218403e+00, 8.97122957e+00, 9.49594028e+00, 1.00473931e+01,\n",
       "           1.06266954e+01, 1.12349846e+01, 1.18734287e+01, 1.25432256e+01,\n",
       "           1.32456029e+01, 1.39818180e+01, 1.47531573e+01, 1.55609360e+01,\n",
       "           1.64064975e+01, 1.72912127e+01, 1.82164793e+01, 1.91837211e+01,\n",
       "           2.01943870e+01, 2.12499500e+01, 2.23519062e+01, 2.35017735e+01,\n",
       "           2.47010902e+01, 2.59514137e+01, 2.72543192e+01, 2.86113974e+01,\n",
       "           3.00242533e+01, 3.14945044e+01, 3.30237781e+01, 3.46137100e+01,\n",
       "           3.62659418e+01, 3.79821186e+01, 3.97638865e+01, 4.16128903e+01,\n",
       "           4.35307704e+01, 4.55191601e+01, 4.75796829e+01, 4.97139489e+01,\n",
       "           5.19235522e+01, 5.42100671e+01, 5.65750452e+01, 5.90200116e+01,\n",
       "           6.15464612e+01, 6.41558552e+01, 6.68496173e+01, 6.96291300e+01,\n",
       "           7.24957299e+01, 7.54507048e+01, 7.84952886e+01, 8.16306577e+01,\n",
       "           8.48579266e+01, 8.81781438e+01, 9.15922872e+01, 9.51012602e+01,\n",
       "           9.87058868e+01, 1.02406908e+02, 1.06204976e+02, 1.10100654e+02,\n",
       "           1.14094403e+02, 1.18186590e+02, 1.22377472e+02, 1.26667200e+02,\n",
       "           1.31055810e+02, 1.35543221e+02, 1.40129231e+02, 1.44813515e+02,\n",
       "           1.49595615e+02, 1.54474945e+02, 1.59450781e+02, 1.64522260e+02,\n",
       "           1.69688378e+02, 1.74947985e+02, 1.80299785e+02, 1.85742329e+02,\n",
       "           1.91274018e+02, 1.96893098e+02, 2.02597656e+02, 2.08385626e+02,\n",
       "           2.14254777e+02, 2.20202724e+02, 2.26226915e+02, 2.32324642e+02,\n",
       "           2.38493033e+02, 2.44729053e+02, 2.51029511e+02, 2.57391052e+02,\n",
       "           2.63810166e+02, 2.70283182e+02, 2.76806278e+02, 2.83375476e+02,\n",
       "           2.89986651e+02, 2.96635528e+02, 3.03317690e+02, 3.10028579e+02,\n",
       "           3.16763502e+02, 3.23517633e+02, 3.30286021e+02, 3.37063592e+02,\n",
       "           3.43845158e+02, 3.50625418e+02, 3.57398969e+02, 3.64160310e+02,\n",
       "           3.70903849e+02, 3.77623910e+02, 3.84314744e+02, 3.90970530e+02,\n",
       "           3.97585388e+02, 4.04153388e+02, 4.10668552e+02, 4.17124871e+02,\n",
       "           4.23516310e+02, 4.29836816e+02, 4.36080328e+02, 4.42240790e+02,\n",
       "           4.48312155e+02, 4.54288399e+02, 4.60163528e+02, 4.65931592e+02,\n",
       "           4.71586688e+02, 4.77122977e+02, 4.82534691e+02, 4.87816143e+02,\n",
       "           4.92961735e+02, 4.97965971e+02, 5.02823467e+02, 5.07528958e+02,\n",
       "           5.12077307e+02, 5.16463518e+02, 5.20682743e+02, 5.24730290e+02,\n",
       "           5.28601633e+02, 5.32292420e+02, 5.35798482e+02, 5.39115839e+02,\n",
       "           5.42240709e+02, 5.45169515e+02, 5.47898892e+02, 5.50425692e+02,\n",
       "           5.52746991e+02, 5.54860097e+02, 5.56762549e+02, 5.58452130e+02,\n",
       "           5.59926864e+02, 5.61185024e+02, 5.62225134e+02, 5.63045972e+02,\n",
       "           5.63646573e+02, 5.64026230e+02, 5.64184496e+02, 5.64121184e+02,\n",
       "           5.63836369e+02, 5.63330387e+02, 5.62603833e+02, 5.61657562e+02,\n",
       "           5.60492687e+02, 5.59110573e+02, 5.57512842e+02, 5.55701363e+02,\n",
       "           5.53678250e+02, 5.51445860e+02, 5.49006787e+02, 5.46363857e+02,\n",
       "           5.43520121e+02, 5.40478852e+02, 5.37243538e+02, 5.33817874e+02,\n",
       "           5.30205755e+02, 5.26411270e+02, 5.22438695e+02, 5.18292482e+02,\n",
       "           5.13977251e+02, 5.09497787e+02, 5.04859021e+02, 5.00066033e+02,\n",
       "           4.95124033e+02, 4.90038355e+02, 4.84814450e+02, 4.79457871e+02,\n",
       "           4.73974269e+02, 4.68369379e+02, 4.62649011e+02, 4.56819041e+02,\n",
       "           4.50885400e+02, 4.44854065e+02, 4.38731049e+02, 4.32522388e+02,\n",
       "           4.26234137e+02, 4.19872357e+02, 4.13443103e+02, 4.06952420e+02,\n",
       "           4.00406331e+02, 3.93810826e+02, 3.87171857e+02, 3.80495327e+02,\n",
       "           3.73787083e+02, 3.67052907e+02, 3.60298505e+02, 3.53529508e+02,\n",
       "           3.46751456e+02, 3.39969795e+02, 3.33189870e+02, 3.26416918e+02,\n",
       "           3.19656063e+02, 3.12912310e+02, 3.06190538e+02, 2.99495499e+02,\n",
       "           2.92831807e+02, 2.86203943e+02, 2.79616241e+02, 2.73072891e+02,\n",
       "           2.66577935e+02, 2.60135262e+02, 2.53748607e+02, 2.47421551e+02,\n",
       "           2.41157514e+02, 2.34959759e+02, 2.28831386e+02, 2.22775338e+02,\n",
       "           2.16794394e+02, 2.10891171e+02, 2.05068127e+02, 1.99327559e+02,\n",
       "           1.93671602e+02, 1.88102236e+02, 1.82621282e+02, 1.77230406e+02,\n",
       "           1.71931120e+02, 1.66724786e+02, 1.61612616e+02, 1.56595676e+02,\n",
       "           1.51674890e+02, 1.46851040e+02, 1.42124772e+02, 1.37496597e+02,\n",
       "           1.32966897e+02, 1.28535927e+02, 1.24203819e+02, 1.19970586e+02,\n",
       "           1.15836127e+02, 1.11800228e+02, 1.07862571e+02, 1.04022733e+02,\n",
       "           1.00280195e+02, 9.66343423e+01, 9.30844711e+01, 8.96297925e+01,\n",
       "           8.62694367e+01, 8.30024572e+01, 7.98278352e+01, 7.67444839e+01,\n",
       "           7.37512531e+01, 7.08469328e+01, 6.80302579e+01, 6.52999123e+01,\n",
       "           6.26545325e+01, 6.00927121e+01, 5.76130056e+01, 5.52139319e+01,\n",
       "           5.28939783e+01, 5.06516045e+01, 4.84852452e+01, 4.63933145e+01,\n",
       "           4.43742087e+01, 4.24263096e+01, 4.05479880e+01, 3.87376059e+01,\n",
       "           3.69935201e+01, 3.53140849e+01, 3.36976543e+01, 3.21425849e+01,\n",
       "           3.06472383e+01, 2.92099831e+01, 2.78291974e+01, 2.65032707e+01,\n",
       "           2.52306059e+01, 2.40096209e+01, 2.28387506e+01, 2.17164481e+01,\n",
       "           2.06411868e+01, 1.96114611e+01, 1.86257878e+01, 1.76827076e+01,\n",
       "           1.67807860e+01, 1.59186138e+01, 1.50948085e+01, 1.43080150e+01,\n",
       "           1.35569059e+01, 1.28401823e+01, 1.21565745e+01, 1.15048419e+01,\n",
       "           1.08837739e+01, 1.02921897e+01, 9.72893880e+00, 9.19290081e+00,\n",
       "           8.68298584e+00, 8.19813427e+00, 7.73731675e+00, 7.29953410e+00,\n",
       "           6.88381709e+00, 6.48922629e+00, 6.11485173e+00, 5.75981266e+00,\n",
       "           5.42325719e+00, 5.10436191e+00, 4.80233148e+00, 4.51639818e+00,\n",
       "           4.24582147e+00, 3.98988749e+00, 3.74790855e+00, 3.51922260e+00,\n",
       "           3.30319266e+00, 3.09920632e+00, 2.90667508e+00, 2.72503385e+00,\n",
       "           2.55374031e+00, 2.39227431e+00, 2.24013730e+00, 2.09685169e+00,\n",
       "           1.96196026e+00, 1.83502554e+00, 1.71562923e+00, 1.60337156e+00,\n",
       "           1.49787071e+00, 1.39876224e+00, 1.30569844e+00, 1.21834781e+00,\n",
       "           1.13639445e+00, 1.05953751e+00, 9.87490628e-01, 9.19981397e-01,\n",
       "           8.56750812e-01, 7.97552754e-01, 7.42153481e-01, 6.90331124e-01,\n",
       "           6.41875199e-01, 5.96586130e-01, 5.54274788e-01, 5.14762039e-01,\n",
       "           4.77878306e-01, 4.43463147e-01, 4.11364840e-01, 3.81439987e-01,\n",
       "           3.53553128e-01, 3.27576370e-01, 3.03389022e-01, 2.80877257e-01,\n",
       "           2.59933768e-01, 2.40457455e-01, 2.22353108e-01, 2.05531116e-01,\n",
       "           1.89907173e-01, 1.75402014e-01, 1.61941142e-01, 1.49454582e-01,\n",
       "           1.37876638e-01, 1.27145664e-01, 1.17203839e-01, 1.07996961e-01,\n",
       "           9.94742448e-02, 9.15881277e-02, 8.42940900e-02, 7.75504796e-02,\n",
       "           7.13183464e-02, 6.55612850e-02, 6.02452853e-02, 5.53385900e-02,\n",
       "           5.08115599e-02, 4.66365465e-02, 4.27877701e-02, 3.92412054e-02,\n",
       "           3.59744730e-02, 3.29667365e-02, 3.01986056e-02, 2.76520439e-02,\n",
       "           2.53102830e-02, 2.31577404e-02, 2.11799425e-02, 1.93634521e-02,\n",
       "           1.76958004e-02, 1.61654223e-02, 1.47615958e-02, 1.34743860e-02,\n",
       "           1.22945906e-02, 1.12136908e-02, 1.02238035e-02, 9.31763791e-03,\n",
       "           8.48845362e-03, 7.73002228e-03, 7.03659131e-03, 6.40284995e-03,\n",
       "           5.82389769e-03, 5.29521460e-03, 4.81263372e-03, 4.37231526e-03,\n",
       "           3.97072256e-03, 3.60459963e-03, 3.27095026e-03, 2.96701855e-03,\n",
       "           2.69027081e-03, 2.43837868e-03, 2.20920349e-03, 2.00078169e-03,\n",
       "           1.81131133e-03, 1.63913951e-03, 1.48275074e-03, 1.34075614e-03,\n",
       "           1.21188346e-03, 1.09496777e-03, 9.88942925e-04, 8.92833621e-04,\n",
       "           8.05748044e-04, 7.26871096e-04, 6.55458130e-04, 5.90829165e-04,\n",
       "           5.32363549e-04, 4.79495034e-04, 4.31707239e-04, 3.88529468e-04,\n",
       "           3.49532862e-04, 3.14326847e-04, 2.82555884e-04, 2.53896463e-04,\n",
       "           2.28054351e-04, 2.04762059e-04, 1.83776523e-04, 1.64876966e-04,\n",
       "           1.47862948e-04, 1.32552569e-04, 1.18780829e-04, 1.06398125e-04,\n",
       "           9.52688689e-05, 8.52702350e-05, 7.62910033e-05, 6.82305085e-05,\n",
       "           6.09976784e-05, 5.45101552e-05, 4.86934950e-05, 4.34804361e-05,\n",
       "           3.88102331e-05, 3.46280493e-05, 3.08844035e-05, 2.75346667e-05,\n",
       "           2.45386037e-05, 2.18599560e-05, 1.94660636e-05, 1.73275199e-05,\n",
       "           1.54178597e-05, 1.37132752e-05, 1.21923580e-05, 1.08358663e-05,\n",
       "           9.62651260e-06, 8.54877222e-06, 7.58870942e-06, 6.73382021e-06,\n",
       "           5.97289012e-06, 5.29586554e-06, 4.69373741e-06, 4.15843623e-06,\n",
       "           3.68273710e-06, 3.26017418e-06, 2.88496338e-06, 2.55193274e-06,\n",
       "           2.25645957e-06, 1.99441396e-06, 1.76210779e-06, 1.55624887e-06,\n",
       "           1.37389975e-06, 1.21244056e-06, 1.06953570e-06, 9.43103868e-07,\n",
       "           8.31291202e-07, 7.32447089e-07, 6.45102532e-07, 5.67950716e-07,\n",
       "           4.99829600e-07, 4.39706319e-07, 3.86663215e-07, 3.39885334e-07,\n",
       "           2.98649236e-07, 2.62312995e-07, 2.30307255e-07, 2.02127241e-07,\n",
       "           1.77325622e-07, 1.55506144e-07, 1.36317944e-07, 1.19450486e-07,\n",
       "           1.04629037e-07, 9.16106468e-08, 8.01805605e-08, 7.01490253e-08,\n",
       "           6.13484522e-08, 5.36308889e-08, 4.68657742e-08, 4.09379425e-08,\n",
       "           3.57458512e-08, 3.12000069e-08, 2.72215689e-08, 2.37411106e-08,\n",
       "           2.06975206e-08, 1.80370302e-08, 1.57123505e-08, 1.36819090e-08,\n",
       "           1.19091744e-08, 1.03620582e-08, 9.01238660e-09, 7.83543327e-09]>"
      ]
     },
     "execution_count": 15,
     "metadata": {},
     "output_type": "execute_result"
    }
   ],
   "source": [
    "tf"
   ]
  },
  {
   "cell_type": "code",
   "execution_count": 16,
   "metadata": {},
   "outputs": [
    {
     "data": {
      "image/png": "[encoded data removed]",
      "text/plain": [
       "<Figure size 1008x432 with 6 Axes>"
      ]
     },
     "metadata": {
      "needs_background": "light"
     },
     "output_type": "display_data"
    }
   ],
   "source": [
    "fig, ax=plt.subplots(ncols=3, nrows=2, figsize=(14, 6))\n",
    "ax[0][0].plot(freqs, ia)\n",
    "ax[0][0].set_title('a)', fontsize=16)\n",
    "ax[0][1].plot(freqs, ib)\n",
    "ax[0][1].set_title('b)', fontsize=16)\n",
    "ax[0][2].plot(freqs, ic)\n",
    "ax[0][2].set_title('c)', fontsize=16)\n",
    "\n",
    "ax[1][0].plot(freqs, i_d)\n",
    "ax[1][0].set_title('d)', fontsize=16)\n",
    "ax[1][1].plot(freqs, ie)\n",
    "ax[1][1].set_title('e)', fontsize=16)\n",
    "ax[1][2].plot(freqs, i_f)\n",
    "ax[1][2].set_title('f)', fontsize=16)\n",
    "\n",
    "#automatically set all labels\n",
    "xlabel= lambda axi: axi.set_xlabel(r'$\\nu \\;[Hz]$')\n",
    "ylabel= lambda axi: axi.set_ylabel(r'$I_\\nu \\;[{}]$'.format(INT_UNIT))\n",
    "\n",
    "vfunc1 = np.vectorize(xlabel)\n",
    "vfunc2 = np.vectorize(ylabel)\n",
    "\n",
    "vfunc1(ax)\n",
    "vfunc2(ax)\n",
    "\n",
    "plt.tight_layout()"
   ]
  },
  {
   "cell_type": "code",
   "execution_count": null,
   "metadata": {},
   "outputs": [],
   "source": []
  }
 ],
 "metadata": {
  "kernelspec": {
   "display_name": "Python 3",
   "language": "python",
   "name": "python3"
  },
  "language_info": {
   "codemirror_mode": {
    "name": "ipython",
    "version": 3
   },
   "file_extension": ".py",
   "mimetype": "text/x-python",
   "name": "python",
   "nbconvert_exporter": "python",
   "pygments_lexer": "ipython3",
   "version": "3.6.6"
  }
 },
 "nbformat": 4,
 "nbformat_minor": 2
}
